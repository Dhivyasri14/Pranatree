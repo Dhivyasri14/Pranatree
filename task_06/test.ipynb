{
 "cells": [
  {
   "cell_type": "code",
   "execution_count": 2,
   "metadata": {},
   "outputs": [],
   "source": [
    "from langchain_huggingface import HuggingFaceEmbeddings\n",
    "from pinecone.grpc import PineconeGRPC as Pinecone\n",
    "from pinecone import ServerlessSpec\n",
    "from dotenv import load_dotenv\n",
    "import os\n",
    "from pdf2image import convert_from_path\n",
    "import pytesseract\n",
    "from langchain.schema import Document\n",
    "from langchain.text_splitter import RecursiveCharacterTextSplitter\n",
    "from langchain_pinecone import PineconeVectorStore\n",
    "from langchain_community.document_loaders import PyPDFDirectoryLoader\n",
    "load_dotenv()\n",
    "\n",
    "\n",
    "\n",
    "# Initialize the Hugging Face embedding model\n",
    "embeddings = HuggingFaceEmbeddings(model_name=\"sentence-transformers/all-mpnet-base-v2\")\n"
   ]
  },
  {
   "cell_type": "code",
   "execution_count": 3,
   "metadata": {},
   "outputs": [],
   "source": [
    "pinecone_api_key = os.getenv(\"PINECONE_API_KEY\")"
   ]
  },
  {
   "cell_type": "code",
   "execution_count": 4,
   "metadata": {},
   "outputs": [],
   "source": [
    "# Define document loader\n",
    "def read_doc(directory):\n",
    "    file_loader = PyPDFDirectoryLoader(directory)\n",
    "    documents = file_loader.load()\n",
    "    return documents"
   ]
  },
  {
   "cell_type": "code",
   "execution_count": 5,
   "metadata": {},
   "outputs": [
    {
     "name": "stdout",
     "output_type": "stream",
     "text": [
      "[Document(metadata={'source': 'documents\\\\Power_bi_qn.pdf', 'page': 0}, page_content=' \\nQ 1. What is Power BI? \\nANS :-  Power BI is a business analytics tool by Microsoft\\nthat provides interactive visualizations and business\\nintelligence capabilities with an interface simple enough\\nfor end users to create their own reports and dashboards.\\nTop 50 Power-BI interview\\nquestions and answers\\nQ 2. What are the key components of Power BI?\\nANS :-   The key components are Power BI Desktop, Power\\nBI Service, and Power BI Mobile.\\nQ 3. What is Power BI Desktop?\\nANS :-   Power BI Desktop is a desktop application used for\\ncreating and publishing reports.\\nQ 4. What is the Power BI Service? \\nANS :-   Power BI Service is an online service for sharing\\nand collaborating on Power BI reports.'), Document(metadata={'source': 'documents\\\\Power_bi_qn.pdf', 'page': 1}, page_content=' Q 5. What are Power BI dashboards?\\nANS :-  Dashboards are single-page, often called\\ncanvases, that use visualizations to tell a story.\\nQ 6. What is a Power BI report?\\nANS :-   A report is a multi-perspective view into a dataset,\\nwith visualizations representing different insights from the\\ndataset. \\nQ 7. What is DAX? \\nANS :-    DAX (Data Analysis Expressions) is a formula\\nlanguage used in Power BI, Power Pivot, and SSAS for\\ncreating custom calculations.\\nQ 8.  What are some common data sources for\\nPower BI?\\nANS :-    Common data sources include Excel, SQL Server,\\nAzure, SharePoint, and web data.\\nQ 9.   How do you refresh data in Power BI?\\nANS :-    Data can be refreshed manually in Power BI\\nDesktop or automatically scheduled in the Power BI\\nService.\\n'), Document(metadata={'source': 'documents\\\\Power_bi_qn.pdf', 'page': 2}, page_content=' Q 10. What are Power BI visualizations? \\nANS :- Visualizations are graphical representations of\\ndata, such as charts, graphs, maps, etc.\\nQ 11. What is Power Query? \\nANS :- Power Query is a data connection technology that\\nenables you to discover, connect, combine, and refine data\\nacross a wide variety of sources. \\nQ 12. What is the use of the Power BI gateway?\\nANS :-  The gateway is used to securely connect on-\\npremises data sources to Power BI.\\nQ 13.  What are calculated columns in Power BI?\\nANS :-  Calculated columns are new data columns\\ncreated using DAX formulas based on other columns in the\\ndataset.\\nQ 14.  What are measures in Power BI?\\nANS :-  Measures are calculations used in data analysis,\\nsuch as sums, averages, or more complex aggregations,\\ncreated using DAX.\\n'), Document(metadata={'source': 'documents\\\\Power_bi_qn.pdf', 'page': 3}, page_content=\" Q 15. What is a data model in Power BI?\\nANS :-   A data model is a collection of tables,\\nrelationships, and calculations that underpin a Power BI\\nreport. \\nQ 16. How do you create a relationshipbetween tables in Power BI?\\nANS :-  Relationships can be created by dragging and\\ndropping fields between tables in the relationship view. \\nQ 17. What is a slicer in Power BI?\\nANS :-  A slicer is a visual filter that allows users to\\nsegment data in a report.\\nQ 18. What is a Power BI template?\\nANS :-  A template is a file that includes a Power BI report\\ndefinition and layout but not the data itself, allowing users\\nto create new reports based on a pre-defined structure. \\nQ 19. What is the use of the 'Get Data' featurein Power BI?\\nANS :-  The 'Get Data' feature is used to connect to and\\nimport data from various sources into Power BI.\\n\"), Document(metadata={'source': 'documents\\\\Power_bi_qn.pdf', 'page': 4}, page_content=' Q 20. What is drill through in Power BI? \\nANS :- Drill through allows users to navigate to a different\\nreport page that is filtered to display specific details. \\nQ 21. How can you share Power BI reports?\\nANS :-  Reports can be shared via the Power BI Service by\\npublishing them and sharing links or workspaces with\\nothers.\\nQ 22. What is a custom visual in Power BI? \\nANS :-  Custom visuals are additional visual types that can\\nbe imported into Power BI to extend its visualization\\ncapabilities. \\nQ 23. What are Power BI apps?\\nANS :-  Power BI apps are collections of dashboards and\\nreports that are bundled together and can be shared with\\nother users. \\nQ 24. What is a KPI in Power BI?\\nANS :-  A KPI (Key Performance Indicator) is a visual cue\\nthat communicates the amount of progress made toward\\na measurable goal.\\n'), Document(metadata={'source': 'documents\\\\Power_bi_qn.pdf', 'page': 5}, page_content=' \\nQ 25. How do you handle large datasets inPower BI?\\nANS :- Large datasets can be managed using data\\nreduction techniques, such as aggregations, filters, or\\nincremental data refresh.\\nQ 26. What is row-level security (RLS) in PowerBI?\\nANS :-  RLS allows you to restrict data access for certain\\nusers based on roles defined within Power BI  \\nQ 27. What is a calculated table in Power BI?\\nANS :- A calculated table is a new table created in Power\\nBI using DAX expressions.\\nQ 28. How do you optimize Power BI reports forperformance? \\nANS :- Optimize reports by reducing the data model size,\\nusing efficient DAX calculations, minimizing visuals, and\\noptimizing queries.\\nQ 29.  What are Power BI workspaces?\\nANS :- Workspaces are collaborative environments where\\nusers can create, share, and manage reports and\\ndashboards.\\n'), Document(metadata={'source': 'documents\\\\Power_bi_qn.pdf', 'page': 6}, page_content=' \\nQ 30. What is Power BI Embedded?\\nANS :- Power BI Embedded is a service that allows you to\\nembed Power BI reports and dashboards into your custom\\napplications.\\nQ 31. What is the purpose of the Power BI RESTAPI?\\nANS :-  The REST API allows developers to programmatically\\ninteract with Power BI service, automating tasks like\\nembedding reports, creating datasets, and refreshing data.\\nQ 32. How do you create a custom date table in\\nPower BI?\\nANS :- A custom date table can be created using DAX or\\nimported from a source, providing a dedicated table for\\ndate-related calculations.\\nQ 33. Explain the use of the CALCULATEfunction in DAX.\\nANS :- CALCULATE changes the context in which data is\\nevaluated, allowing for advanced filtering and\\nmanipulation of measures and calculated columns.\\nQ 34. What are hierarchies in Power BI? \\nANS :- Hierarchies allow you to organize data into levels,\\nsuch as year, quarter, month, enabling drill-down\\ncapabilities in visualizations.\\n'), Document(metadata={'source': 'documents\\\\Power_bi_qn.pdf', 'page': 7}, page_content=' \\nQ 35. What is a dataflow in Power BI?\\nANS :- A dataflow is a collection of tables created and\\nmanaged in the Power BI Service, used to streamline data\\npreparation and ETL processes.\\nQ 36. Explain the use of the FILTER function inDAX?\\nANS :- FILTER returns a table that includes only rows that\\nmeet the specified criteria, often used in combination with\\nCALCULATE.\\nQ 37. What are the benefits of using Power BI\\nPremium?\\nANS :- Power BI Premium offers dedicated capacity, larger\\ndataset sizes, more frequent data refreshes, and\\nadvanced AI capabilities.\\nQ 38. Explain the use of the CALCULATEfunction in DAX ?\\nANS :- CALCULATE changes the context in which data is\\nevaluated, allowing for advanced filtering and\\nmanipulation of measures and calculated columns.\\nQ 39. What is incremental refresh in Power BI? \\nANS :- Incremental refresh allows you to update only the\\ndata that has changed, rather than refreshing the entire\\ndataset, improving performance and efficiency.\\n'), Document(metadata={'source': 'documents\\\\Power_bi_qn.pdf', 'page': 8}, page_content=' \\nQ 40. How do you create a measure to calculateyear-over-year growth in Power BI? \\nANS :- Use DAX functions like CALCULATE,\\nSAMEPERIODLASTYEAR, and DIVIDE to create measures\\nthat compare current and previous year values and\\ncalculate growth. \\nQ 41. What is Power BI Report Server?\\nANS :- Power BI Report Server is an on-premises report\\nserver that allows you to create, publish, and manage\\nPower BI reports and paginated reports. \\nQ 42. Explain the use of the RELATED functionin DAX. \\nANS :- RELATED returns a value from a related table,\\nallowing you to use columns from related tables in your\\ncalculations.\\nQ 43. How do you implement dynamic titles inPower BI visuals? \\nANS :- Use measures and conditional formatting to create\\ntitles that change based on slicer selections or other user\\ninputs.\\nQ 44. What is the purpose of the VALUESfunction in DAX? \\nANS :- VALUES returns a one-column table of unique\\nvalues from a specified column, often used to create\\ndynamic calculations. '), Document(metadata={'source': 'documents\\\\Power_bi_qn.pdf', 'page': 9}, page_content=' \\nQ 45. What are parameters in Power BI?\\nANS :- Parameters are used to create dynamic reports by\\nallowing users to input values that filter or change data in\\nthe report.\\nQ 46. How do you use the SWITCH function inDAX? \\nANS :- SWITCH evaluates an expression against a list of\\nvalues and returns the corresponding result, similar to a\\ncase statement in programming. \\nQ 47. Explain the concept of context transition\\nin DAX.\\nANS :- Context transition occurs when row context is\\nconverted to filter context, typically when using\\nCALCULATE or certain iterators in DAX.\\nQ 48. What is the purpose of the ALLEXCEPTfunction in DAX? \\nANS :- ALLEXCEPT removes all filters from a table except\\nfor the specified columns, useful for calculating values in a\\nspecific context.\\nQ 49. How do you handle circulardependencies in DAX? '), Document(metadata={'source': 'documents\\\\Power_bi_qn.pdf', 'page': 10}, page_content=' ANS :- Avoid circular dependencies by restructuring\\ncalculations, ensuring no measure or calculated column\\ndepends on itself directly or indirectly. \\nQ 50. Explain the difference betweenDirectQuery and Import mode in Power BI. \\nANS :- Import mode imports data into Power BI, providing\\nfast performance and full functionality. DirectQuery\\nqueries data directly from the source, allowing for real-\\ntime data access but with some limitations on features\\nand performance. \\n')]\n"
     ]
    }
   ],
   "source": [
    "# Load the Power BI PDF file\n",
    "doc = read_doc('documents/')\n",
    "print(doc)"
   ]
  },
  {
   "cell_type": "code",
   "execution_count": 6,
   "metadata": {},
   "outputs": [],
   "source": [
    "# Convert documents into smaller chunks\n",
    "def chunk_data(docs, chunk_size=800, chunk_overlap=50, source_name=\"Power bi qn.pdf\"):\n",
    "    text_splitter = RecursiveCharacterTextSplitter(chunk_size=chunk_size, chunk_overlap=chunk_overlap)\n",
    "    chunks = text_splitter.split_documents(docs)\n",
    "    for chunk in chunks:\n",
    "        chunk.metadata[\"source\"] = source_name  # Add metadata\n",
    "    return chunks"
   ]
  },
  {
   "cell_type": "code",
   "execution_count": 7,
   "metadata": {},
   "outputs": [
    {
     "name": "stdout",
     "output_type": "stream",
     "text": [
      "Chunked Documents: [Document(metadata={'source': 'Power bi qn.pdf', 'page': 0}, page_content='Q 1. What is Power BI? \\nANS :-  Power BI is a business analytics tool by Microsoft\\nthat provides interactive visualizations and business\\nintelligence capabilities with an interface simple enough\\nfor end users to create their own reports and dashboards.\\nTop 50 Power-BI interview\\nquestions and answers\\nQ 2. What are the key components of Power BI?\\nANS :-   The key components are Power BI Desktop, Power\\nBI Service, and Power BI Mobile.\\nQ 3. What is Power BI Desktop?\\nANS :-   Power BI Desktop is a desktop application used for\\ncreating and publishing reports.\\nQ 4. What is the Power BI Service? \\nANS :-   Power BI Service is an online service for sharing\\nand collaborating on Power BI reports.'), Document(metadata={'source': 'Power bi qn.pdf', 'page': 1}, page_content='Q 5. What are Power BI dashboards?\\nANS :-  Dashboards are single-page, often called\\ncanvases, that use visualizations to tell a story.\\nQ 6. What is a Power BI report?\\nANS :-   A report is a multi-perspective view into a dataset,\\nwith visualizations representing different insights from the\\ndataset. \\nQ 7. What is DAX? \\nANS :-    DAX (Data Analysis Expressions) is a formula\\nlanguage used in Power BI, Power Pivot, and SSAS for\\ncreating custom calculations.\\nQ 8.  What are some common data sources for\\nPower BI?\\nANS :-    Common data sources include Excel, SQL Server,\\nAzure, SharePoint, and web data.\\nQ 9.   How do you refresh data in Power BI?\\nANS :-    Data can be refreshed manually in Power BI\\nDesktop or automatically scheduled in the Power BI\\nService.'), Document(metadata={'source': 'Power bi qn.pdf', 'page': 2}, page_content='Q 10. What are Power BI visualizations? \\nANS :- Visualizations are graphical representations of\\ndata, such as charts, graphs, maps, etc.\\nQ 11. What is Power Query? \\nANS :- Power Query is a data connection technology that\\nenables you to discover, connect, combine, and refine data\\nacross a wide variety of sources. \\nQ 12. What is the use of the Power BI gateway?\\nANS :-  The gateway is used to securely connect on-\\npremises data sources to Power BI.\\nQ 13.  What are calculated columns in Power BI?\\nANS :-  Calculated columns are new data columns\\ncreated using DAX formulas based on other columns in the\\ndataset.\\nQ 14.  What are measures in Power BI?\\nANS :-  Measures are calculations used in data analysis,\\nsuch as sums, averages, or more complex aggregations,\\ncreated using DAX.'), Document(metadata={'source': 'Power bi qn.pdf', 'page': 3}, page_content=\"Q 15. What is a data model in Power BI?\\nANS :-   A data model is a collection of tables,\\nrelationships, and calculations that underpin a Power BI\\nreport. \\nQ 16. How do you create a relationshipbetween tables in Power BI?\\nANS :-  Relationships can be created by dragging and\\ndropping fields between tables in the relationship view. \\nQ 17. What is a slicer in Power BI?\\nANS :-  A slicer is a visual filter that allows users to\\nsegment data in a report.\\nQ 18. What is a Power BI template?\\nANS :-  A template is a file that includes a Power BI report\\ndefinition and layout but not the data itself, allowing users\\nto create new reports based on a pre-defined structure. \\nQ 19. What is the use of the 'Get Data' featurein Power BI?\\nANS :-  The 'Get Data' feature is used to connect to and\"), Document(metadata={'source': 'Power bi qn.pdf', 'page': 3}, page_content='import data from various sources into Power BI.'), Document(metadata={'source': 'Power bi qn.pdf', 'page': 4}, page_content='Q 20. What is drill through in Power BI? \\nANS :- Drill through allows users to navigate to a different\\nreport page that is filtered to display specific details. \\nQ 21. How can you share Power BI reports?\\nANS :-  Reports can be shared via the Power BI Service by\\npublishing them and sharing links or workspaces with\\nothers.\\nQ 22. What is a custom visual in Power BI? \\nANS :-  Custom visuals are additional visual types that can\\nbe imported into Power BI to extend its visualization\\ncapabilities. \\nQ 23. What are Power BI apps?\\nANS :-  Power BI apps are collections of dashboards and\\nreports that are bundled together and can be shared with\\nother users. \\nQ 24. What is a KPI in Power BI?\\nANS :-  A KPI (Key Performance Indicator) is a visual cue\\nthat communicates the amount of progress made toward'), Document(metadata={'source': 'Power bi qn.pdf', 'page': 4}, page_content='a measurable goal.'), Document(metadata={'source': 'Power bi qn.pdf', 'page': 5}, page_content='Q 25. How do you handle large datasets inPower BI?\\nANS :- Large datasets can be managed using data\\nreduction techniques, such as aggregations, filters, or\\nincremental data refresh.\\nQ 26. What is row-level security (RLS) in PowerBI?\\nANS :-  RLS allows you to restrict data access for certain\\nusers based on roles defined within Power BI  \\nQ 27. What is a calculated table in Power BI?\\nANS :- A calculated table is a new table created in Power\\nBI using DAX expressions.\\nQ 28. How do you optimize Power BI reports forperformance? \\nANS :- Optimize reports by reducing the data model size,\\nusing efficient DAX calculations, minimizing visuals, and\\noptimizing queries.\\nQ 29.  What are Power BI workspaces?\\nANS :- Workspaces are collaborative environments where'), Document(metadata={'source': 'Power bi qn.pdf', 'page': 5}, page_content='users can create, share, and manage reports and\\ndashboards.'), Document(metadata={'source': 'Power bi qn.pdf', 'page': 6}, page_content='Q 30. What is Power BI Embedded?\\nANS :- Power BI Embedded is a service that allows you to\\nembed Power BI reports and dashboards into your custom\\napplications.\\nQ 31. What is the purpose of the Power BI RESTAPI?\\nANS :-  The REST API allows developers to programmatically\\ninteract with Power BI service, automating tasks like\\nembedding reports, creating datasets, and refreshing data.\\nQ 32. How do you create a custom date table in\\nPower BI?\\nANS :- A custom date table can be created using DAX or\\nimported from a source, providing a dedicated table for\\ndate-related calculations.\\nQ 33. Explain the use of the CALCULATEfunction in DAX.\\nANS :- CALCULATE changes the context in which data is\\nevaluated, allowing for advanced filtering and\\nmanipulation of measures and calculated columns.'), Document(metadata={'source': 'Power bi qn.pdf', 'page': 6}, page_content='manipulation of measures and calculated columns.\\nQ 34. What are hierarchies in Power BI? \\nANS :- Hierarchies allow you to organize data into levels,\\nsuch as year, quarter, month, enabling drill-down\\ncapabilities in visualizations.'), Document(metadata={'source': 'Power bi qn.pdf', 'page': 7}, page_content='Q 35. What is a dataflow in Power BI?\\nANS :- A dataflow is a collection of tables created and\\nmanaged in the Power BI Service, used to streamline data\\npreparation and ETL processes.\\nQ 36. Explain the use of the FILTER function inDAX?\\nANS :- FILTER returns a table that includes only rows that\\nmeet the specified criteria, often used in combination with\\nCALCULATE.\\nQ 37. What are the benefits of using Power BI\\nPremium?\\nANS :- Power BI Premium offers dedicated capacity, larger\\ndataset sizes, more frequent data refreshes, and\\nadvanced AI capabilities.\\nQ 38. Explain the use of the CALCULATEfunction in DAX ?\\nANS :- CALCULATE changes the context in which data is\\nevaluated, allowing for advanced filtering and\\nmanipulation of measures and calculated columns.'), Document(metadata={'source': 'Power bi qn.pdf', 'page': 7}, page_content='manipulation of measures and calculated columns.\\nQ 39. What is incremental refresh in Power BI? \\nANS :- Incremental refresh allows you to update only the\\ndata that has changed, rather than refreshing the entire\\ndataset, improving performance and efficiency.'), Document(metadata={'source': 'Power bi qn.pdf', 'page': 8}, page_content='Q 40. How do you create a measure to calculateyear-over-year growth in Power BI? \\nANS :- Use DAX functions like CALCULATE,\\nSAMEPERIODLASTYEAR, and DIVIDE to create measures\\nthat compare current and previous year values and\\ncalculate growth. \\nQ 41. What is Power BI Report Server?\\nANS :- Power BI Report Server is an on-premises report\\nserver that allows you to create, publish, and manage\\nPower BI reports and paginated reports. \\nQ 42. Explain the use of the RELATED functionin DAX. \\nANS :- RELATED returns a value from a related table,\\nallowing you to use columns from related tables in your\\ncalculations.\\nQ 43. How do you implement dynamic titles inPower BI visuals? \\nANS :- Use measures and conditional formatting to create\\ntitles that change based on slicer selections or other user\\ninputs.'), Document(metadata={'source': 'Power bi qn.pdf', 'page': 8}, page_content='inputs.\\nQ 44. What is the purpose of the VALUESfunction in DAX? \\nANS :- VALUES returns a one-column table of unique\\nvalues from a specified column, often used to create\\ndynamic calculations.'), Document(metadata={'source': 'Power bi qn.pdf', 'page': 9}, page_content='Q 45. What are parameters in Power BI?\\nANS :- Parameters are used to create dynamic reports by\\nallowing users to input values that filter or change data in\\nthe report.\\nQ 46. How do you use the SWITCH function inDAX? \\nANS :- SWITCH evaluates an expression against a list of\\nvalues and returns the corresponding result, similar to a\\ncase statement in programming. \\nQ 47. Explain the concept of context transition\\nin DAX.\\nANS :- Context transition occurs when row context is\\nconverted to filter context, typically when using\\nCALCULATE or certain iterators in DAX.\\nQ 48. What is the purpose of the ALLEXCEPTfunction in DAX? \\nANS :- ALLEXCEPT removes all filters from a table except\\nfor the specified columns, useful for calculating values in a\\nspecific context.'), Document(metadata={'source': 'Power bi qn.pdf', 'page': 9}, page_content='specific context.\\nQ 49. How do you handle circulardependencies in DAX?'), Document(metadata={'source': 'Power bi qn.pdf', 'page': 10}, page_content='ANS :- Avoid circular dependencies by restructuring\\ncalculations, ensuring no measure or calculated column\\ndepends on itself directly or indirectly. \\nQ 50. Explain the difference betweenDirectQuery and Import mode in Power BI. \\nANS :- Import mode imports data into Power BI, providing\\nfast performance and full functionality. DirectQuery\\nqueries data directly from the source, allowing for real-\\ntime data access but with some limitations on features\\nand performance.')]\n"
     ]
    }
   ],
   "source": [
    "documents = chunk_data(doc)\n",
    "print(\"Chunked Documents:\", documents)"
   ]
  },
  {
   "cell_type": "code",
   "execution_count": 8,
   "metadata": {},
   "outputs": [
    {
     "name": "stdout",
     "output_type": "stream",
     "text": [
      "Embedding Model Loaded\n"
     ]
    }
   ],
   "source": [
    "# Load the Hugging Face Embedding Model\n",
    "from langchain_huggingface import HuggingFaceEmbeddings\n",
    "embeddings = HuggingFaceEmbeddings(model_name=\"sentence-transformers/all-mpnet-base-v2\")  # Hugging Face model\n",
    "print(\"Embedding Model Loaded\")\n"
   ]
  },
  {
   "cell_type": "code",
   "execution_count": 9,
   "metadata": {},
   "outputs": [],
   "source": [
    "from pinecone import ServerlessSpec\n",
    "from pinecone.grpc import PineconeGRPC as Pinecone\n",
    "pc = Pinecone(api_key=pinecone_api_key)\n",
    "index_name = \"vector\"\n",
    "\n",
    "if index_name not in pc.list_indexes().names():\n",
    "    pc.create_index(\n",
    "        name=index_name,\n",
    "        dimension=768,\n",
    "        metric=\"cosine\",\n",
    "        spec=ServerlessSpec(\n",
    "            cloud='aws',\n",
    "            region='us-east-1'\n",
    "        )\n",
    "    )\n",
    "\n",
    "index = pc.Index(index_name)\n"
   ]
  },
  {
   "cell_type": "code",
   "execution_count": 10,
   "metadata": {},
   "outputs": [],
   "source": [
    "from pinecone.grpc import PineconeGRPC as Pinecone\n",
    "from langchain_pinecone import PineconeVectorStore\n",
    "vector_store = PineconeVectorStore.from_documents(\n",
    "    documents=documents,\n",
    "    embedding=embeddings,\n",
    "    index_name=\"vector\"\n",
    ")"
   ]
  },
  {
   "cell_type": "code",
   "execution_count": 11,
   "metadata": {},
   "outputs": [],
   "source": [
    "# Query Pinecone for similar documents\n",
    "def retrieve_query(query, embeddings, k=2):  \n",
    "    # Convert query to embedding\n",
    "    query_embedding = embeddings.embed_query(query)\n",
    "    print(\"Query Embedding Shape:\", len(query_embedding))\n",
    "    # Search in Pinecone\n",
    "    result = index.query(vector=query_embedding, top_k=k, include_metadata=True)\n",
    "    return result"
   ]
  },
  {
   "cell_type": "code",
   "execution_count": 12,
   "metadata": {},
   "outputs": [],
   "source": [
    "# Retrieve answers from the query\n",
    "def retrieve_answers(query):\n",
    "    results = retrieve_query(query, embeddings,index)  # Pass embeddings here\n",
    "    print(f\"Top Matches for Query: '{query}':\")\n",
    "    for match in results[\"matches\"]:\n",
    "        print(f\"Score: {match['score']}, Content: {match['metadata']['source']}\")"
   ]
  },
  {
   "cell_type": "code",
   "execution_count": 13,
   "metadata": {},
   "outputs": [
    {
     "name": "stdout",
     "output_type": "stream",
     "text": [
      "{'matches': [{'id': 'a2246b33-7f41-4518-beed-752f96c236ec',\n",
      "              'metadata': {'page': 6.0,\n",
      "                           'source': 'Power bi qn.pdf',\n",
      "                           'text': 'Q 30. What is Power BI Embedded?\\n'\n",
      "                                   'ANS :- Power BI Embedded is a service that '\n",
      "                                   'allows you to\\n'\n",
      "                                   'embed Power BI reports and dashboards into '\n",
      "                                   'your custom\\n'\n",
      "                                   'applications.\\n'\n",
      "                                   'Q 31. What is the purpose of the Power BI '\n",
      "                                   'RESTAPI?\\n'\n",
      "                                   'ANS :-  The REST API allows developers to '\n",
      "                                   'programmatically\\n'\n",
      "                                   'interact with Power BI service, automating '\n",
      "                                   'tasks like\\n'\n",
      "                                   'embedding reports, creating datasets, and '\n",
      "                                   'refreshing data.\\n'\n",
      "                                   'Q 32. How do you create a custom date '\n",
      "                                   'table in\\n'\n",
      "                                   'Power BI?\\n'\n",
      "                                   'ANS :- A custom date table can be created '\n",
      "                                   'using DAX or\\n'\n",
      "                                   'imported from a source, providing a '\n",
      "                                   'dedicated table for\\n'\n",
      "                                   'date-related calculations.\\n'\n",
      "                                   'Q 33. Explain the use of the '\n",
      "                                   'CALCULATEfunction in DAX.\\n'\n",
      "                                   'ANS :- CALCULATE changes the context in '\n",
      "                                   'which data is\\n'\n",
      "                                   'evaluated, allowing for advanced filtering '\n",
      "                                   'and\\n'\n",
      "                                   'manipulation of measures and calculated '\n",
      "                                   'columns.'},\n",
      "              'score': 0.56450343,\n",
      "              'sparse_values': {'indices': [], 'values': []},\n",
      "              'values': []},\n",
      "             {'id': '014302d5-2031-44fb-8327-2fd2b099ece1',\n",
      "              'metadata': {'page': 6.0,\n",
      "                           'source': 'Power bi qn.pdf',\n",
      "                           'text': 'Q 30. What is Power BI Embedded?\\n'\n",
      "                                   'ANS :- Power BI Embedded is a service that '\n",
      "                                   'allows you to\\n'\n",
      "                                   'embed Power BI reports and dashboards into '\n",
      "                                   'your custom\\n'\n",
      "                                   'applications.\\n'\n",
      "                                   'Q 31. What is the purpose of the Power BI '\n",
      "                                   'RESTAPI?\\n'\n",
      "                                   'ANS :-  The REST API allows developers to '\n",
      "                                   'programmatically\\n'\n",
      "                                   'interact with Power BI service, automating '\n",
      "                                   'tasks like\\n'\n",
      "                                   'embedding reports, creating datasets, and '\n",
      "                                   'refreshing data.\\n'\n",
      "                                   'Q 32. How do you create a custom date '\n",
      "                                   'table in\\n'\n",
      "                                   'Power BI?\\n'\n",
      "                                   'ANS :- A custom date table can be created '\n",
      "                                   'using DAX or\\n'\n",
      "                                   'imported from a source, providing a '\n",
      "                                   'dedicated table for\\n'\n",
      "                                   'date-related calculations.\\n'\n",
      "                                   'Q 33. Explain the use of the '\n",
      "                                   'CALCULATEfunction in DAX.\\n'\n",
      "                                   'ANS :- CALCULATE changes the context in '\n",
      "                                   'which data is\\n'\n",
      "                                   'evaluated, allowing for advanced filtering '\n",
      "                                   'and\\n'\n",
      "                                   'manipulation of measures and calculated '\n",
      "                                   'columns.'},\n",
      "              'score': 0.56450343,\n",
      "              'sparse_values': {'indices': [], 'values': []},\n",
      "              'values': []},\n",
      "             {'id': 'ba403c3b-63c9-426e-9b2c-b7a8395fed3f',\n",
      "              'metadata': {'page': 6.0,\n",
      "                           'source': 'Power bi qn.pdf',\n",
      "                           'text': 'Q 30. What is Power BI Embedded?\\n'\n",
      "                                   'ANS :- Power BI Embedded is a service that '\n",
      "                                   'allows you to\\n'\n",
      "                                   'embed Power BI reports and dashboards into '\n",
      "                                   'your custom\\n'\n",
      "                                   'applications.\\n'\n",
      "                                   'Q 31. What is the purpose of the Power BI '\n",
      "                                   'RESTAPI?\\n'\n",
      "                                   'ANS :-  The REST API allows developers to '\n",
      "                                   'programmatically\\n'\n",
      "                                   'interact with Power BI service, automating '\n",
      "                                   'tasks like\\n'\n",
      "                                   'embedding reports, creating datasets, and '\n",
      "                                   'refreshing data.\\n'\n",
      "                                   'Q 32. How do you create a custom date '\n",
      "                                   'table in\\n'\n",
      "                                   'Power BI?\\n'\n",
      "                                   'ANS :- A custom date table can be created '\n",
      "                                   'using DAX or\\n'\n",
      "                                   'imported from a source, providing a '\n",
      "                                   'dedicated table for\\n'\n",
      "                                   'date-related calculations.\\n'\n",
      "                                   'Q 33. Explain the use of the '\n",
      "                                   'CALCULATEfunction in DAX.\\n'\n",
      "                                   'ANS :- CALCULATE changes the context in '\n",
      "                                   'which data is\\n'\n",
      "                                   'evaluated, allowing for advanced filtering '\n",
      "                                   'and\\n'\n",
      "                                   'manipulation of measures and calculated '\n",
      "                                   'columns.'},\n",
      "              'score': 0.56450343,\n",
      "              'sparse_values': {'indices': [], 'values': []},\n",
      "              'values': []}],\n",
      " 'namespace': '',\n",
      " 'usage': {'read_units': 6}}\n"
     ]
    }
   ],
   "source": [
    "query = \"What is the purpose of the Power BI RESTAPI?\"\n",
    "\n",
    "query_embedding = embeddings.embed_query(query)\n",
    "\n",
    "results = index.query(\n",
    "    vector=query_embedding,\n",
    "    top_k=3,\n",
    "    include_values=False,\n",
    "    include_metadata=True\n",
    ")\n",
    "\n",
    "print(results)"
   ]
  }
 ],
 "metadata": {
  "kernelspec": {
   "display_name": "Python 3",
   "language": "python",
   "name": "python3"
  },
  "language_info": {
   "codemirror_mode": {
    "name": "ipython",
    "version": 3
   },
   "file_extension": ".py",
   "mimetype": "text/x-python",
   "name": "python",
   "nbconvert_exporter": "python",
   "pygments_lexer": "ipython3",
   "version": "3.10.0"
  }
 },
 "nbformat": 4,
 "nbformat_minor": 2
}
