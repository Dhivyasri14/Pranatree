{
 "cells": [
  {
   "cell_type": "code",
   "execution_count": 1,
   "metadata": {},
   "outputs": [
    {
     "name": "stderr",
     "output_type": "stream",
     "text": [
      "c:\\Users\\Dhivya\\Desktop\\VectorDB\\venv\\lib\\site-packages\\pinecone\\data\\index.py:1: TqdmWarning: IProgress not found. Please update jupyter and ipywidgets. See https://ipywidgets.readthedocs.io/en/stable/user_install.html\n",
      "  from tqdm.autonotebook import tqdm\n"
     ]
    },
    {
     "data": {
      "text/plain": [
       "True"
      ]
     },
     "execution_count": 1,
     "metadata": {},
     "output_type": "execute_result"
    }
   ],
   "source": [
    "from langchain_huggingface import HuggingFaceEmbeddings\n",
    "from pinecone import Pinecone, ServerlessSpec\n",
    "from dotenv import load_dotenv\n",
    "import os\n",
    "from langchain_community.document_loaders import PyPDFDirectoryLoader\n",
    "from langchain.text_splitter import RecursiveCharacterTextSplitter\n",
    "from langchain_pinecone import PineconeVectorStore\n",
    "from langchain.chains import RetrievalQA\n",
    "from langchain.llms import OpenAI  # or any other LLM from LangChain\n",
    "\n",
    "# Load environment variables\n",
    "load_dotenv()"
   ]
  },
  {
   "cell_type": "code",
   "execution_count": 2,
   "metadata": {},
   "outputs": [
    {
     "name": "stdout",
     "output_type": "stream",
     "text": [
      "Hugging Face Embedding Model Loaded.\n"
     ]
    }
   ],
   "source": [
    "# Initialize the Hugging Face embedding model\n",
    "from langchain_huggingface import HuggingFaceEmbeddings\n",
    "embeddings = HuggingFaceEmbeddings(model_name=\"sentence-transformers/all-mpnet-base-v2\")\n",
    "print(\"Hugging Face Embedding Model Loaded.\")"
   ]
  },
  {
   "cell_type": "code",
   "execution_count": 3,
   "metadata": {},
   "outputs": [
    {
     "name": "stdout",
     "output_type": "stream",
     "text": [
      "Pinecone Client Initialized.\n"
     ]
    }
   ],
   "source": [
    "# Set Pinecone API Key\n",
    "pinecone_api_key = os.getenv(\"PINECONE_API_KEY\")\n",
    "if not pinecone_api_key:\n",
    "    raise ValueError(\"Pinecone API key is missing. Ensure it's set in the environment variables.\")\n",
    "    \n",
    "# Initialize Pinecone client\n",
    "pc = Pinecone(api_key=pinecone_api_key)\n",
    "print(\"Pinecone Client Initialized.\")"
   ]
  },
  {
   "cell_type": "code",
   "execution_count": 4,
   "metadata": {},
   "outputs": [],
   "source": [
    "# Define document loader\n",
    "def read_doc(directory):\n",
    "    file_loader = PyPDFDirectoryLoader(directory)\n",
    "    documents = file_loader.load()\n",
    "    return documents"
   ]
  },
  {
   "cell_type": "code",
   "execution_count": 5,
   "metadata": {},
   "outputs": [
    {
     "name": "stdout",
     "output_type": "stream",
     "text": [
      "0 documents loaded.\n"
     ]
    }
   ],
   "source": [
    "# Load documents\n",
    "doc_directory = \"documents/\"  # Change to your directory path\n",
    "docs = read_doc(doc_directory)\n",
    "print(f\"{len(docs)} documents loaded.\")"
   ]
  },
  {
   "cell_type": "code",
   "execution_count": 6,
   "metadata": {},
   "outputs": [],
   "source": [
    "# Split documents into chunks\n",
    "def chunk_data(docs, chunk_size=800, chunk_overlap=50):\n",
    "    text_splitter = RecursiveCharacterTextSplitter(chunk_size=chunk_size, chunk_overlap=chunk_overlap)\n",
    "    chunks = text_splitter.split_documents(docs)\n",
    "    for chunk in chunks:\n",
    "        chunk.metadata[\"source\"] = chunk.metadata.get(\"source\", \"Unknown\")  # Add or retain metadata\n",
    "    return chunks"
   ]
  },
  {
   "cell_type": "code",
   "execution_count": 7,
   "metadata": {},
   "outputs": [
    {
     "name": "stdout",
     "output_type": "stream",
     "text": [
      "Documents split into 0 chunks.\n"
     ]
    }
   ],
   "source": [
    "documents = chunk_data(docs)\n",
    "print(f\"Documents split into {len(documents)} chunks.\")"
   ]
  },
  {
   "cell_type": "code",
   "execution_count": 8,
   "metadata": {},
   "outputs": [
    {
     "name": "stdout",
     "output_type": "stream",
     "text": [
      "Pinecone index 'vector' is ready.\n"
     ]
    }
   ],
   "source": [
    "# Create or connect to Pinecone index\n",
    "index_name = \"vector\"\n",
    "if index_name not in pc.list_indexes().names():\n",
    "    pc.create_index(\n",
    "        name=index_name,\n",
    "        dimension=768,\n",
    "        metric=\"cosine\",\n",
    "        spec=ServerlessSpec(cloud='aws', region='us-east-1')\n",
    "    )\n",
    "print(f\"Pinecone index '{index_name}' is ready.\")\n",
    "\n",
    "index = pc.Index(index_name)"
   ]
  },
  {
   "cell_type": "code",
   "execution_count": 9,
   "metadata": {},
   "outputs": [
    {
     "name": "stdout",
     "output_type": "stream",
     "text": [
      "Documents uploaded to Pinecone.\n"
     ]
    }
   ],
   "source": [
    "# Upload documents to Pinecone as vectors\n",
    "vector_store = PineconeVectorStore.from_documents(\n",
    "    documents=documents,\n",
    "    embedding=embeddings,\n",
    "    index_name=index_name\n",
    ")\n",
    "print(\"Documents uploaded to Pinecone.\")"
   ]
  },
  {
   "cell_type": "code",
   "execution_count": 10,
   "metadata": {},
   "outputs": [],
   "source": [
    "# Define retrieval function\n",
    "def retrieve_query(query, vector_store, k=2):\n",
    "    results = vector_store.similarity_search(query=query, k=k)\n",
    "    return results"
   ]
  },
  {
   "cell_type": "code",
   "execution_count": 11,
   "metadata": {},
   "outputs": [],
   "source": [
    "# Define full query-answering pipeline using LangChain\n",
    "def answer_query(query, retriever, llm):\n",
    "    qa_chain = RetrievalQA(llm=llm, retriever=retriever)\n",
    "    answer = qa_chain.run(query)\n",
    "    return answer"
   ]
  },
  {
   "cell_type": "code",
   "execution_count": 12,
   "metadata": {},
   "outputs": [
    {
     "name": "stderr",
     "output_type": "stream",
     "text": [
      "C:\\Users\\Dhivya\\AppData\\Local\\Temp\\ipykernel_6708\\2249435788.py:4: LangChainDeprecationWarning: The class `OpenAI` was deprecated in LangChain 0.0.10 and will be removed in 1.0. An updated version of the class exists in the :class:`~langchain-openai package and should be used instead. To use it run `pip install -U :class:`~langchain-openai` and import as `from :class:`~langchain_openai import OpenAI``.\n",
      "  llm = OpenAI(model=\"gpt-4\")  # Replace with your model and API key\n"
     ]
    },
    {
     "name": "stdout",
     "output_type": "stream",
     "text": [
      "{'matches': [{'id': '6c2bd2b0-c37f-4980-a9d1-d68bb5912fef',\n",
      "              'metadata': {'page': 0.0,\n",
      "                           'source': 'Power bi qn.pdf',\n",
      "                           'text': 'Q 1. What is Power BI? \\n'\n",
      "                                   'ANS :-  Power BI is a business analytics '\n",
      "                                   'tool by Microsoft\\n'\n",
      "                                   'that provides interactive visualizations '\n",
      "                                   'and business\\n'\n",
      "                                   'intelligence capabilities with an '\n",
      "                                   'interface simple enough\\n'\n",
      "                                   'for end users to create their own reports '\n",
      "                                   'and dashboards.\\n'\n",
      "                                   'Top 50 Power-BI interview\\n'\n",
      "                                   'questions and answers\\n'\n",
      "                                   'Q 2. What are the key components of Power '\n",
      "                                   'BI?\\n'\n",
      "                                   'ANS :-   The key components are Power BI '\n",
      "                                   'Desktop, Power\\n'\n",
      "                                   'BI Service, and Power BI Mobile.\\n'\n",
      "                                   'Q 3. What is Power BI Desktop?\\n'\n",
      "                                   'ANS :-   Power BI Desktop is a desktop '\n",
      "                                   'application used for\\n'\n",
      "                                   'creating and publishing reports.\\n'\n",
      "                                   'Q 4. What is the Power BI Service? \\n'\n",
      "                                   'ANS :-   Power BI Service is an online '\n",
      "                                   'service for sharing\\n'\n",
      "                                   'and collaborating on Power BI reports.'},\n",
      "              'score': 0.711549819,\n",
      "              'values': []},\n",
      "             {'id': 'd2d81ade-36c0-4a3c-9ffd-3cdc1123c7f3',\n",
      "              'metadata': {'page': 0.0,\n",
      "                           'source': 'Power bi qn.pdf',\n",
      "                           'text': 'Q 1. What is Power BI? \\n'\n",
      "                                   'ANS :-  Power BI is a business analytics '\n",
      "                                   'tool by Microsoft\\n'\n",
      "                                   'that provides interactive visualizations '\n",
      "                                   'and business\\n'\n",
      "                                   'intelligence capabilities with an '\n",
      "                                   'interface simple enough\\n'\n",
      "                                   'for end users to create their own reports '\n",
      "                                   'and dashboards.\\n'\n",
      "                                   'Top 50 Power-BI interview\\n'\n",
      "                                   'questions and answers\\n'\n",
      "                                   'Q 2. What are the key components of Power '\n",
      "                                   'BI?\\n'\n",
      "                                   'ANS :-   The key components are Power BI '\n",
      "                                   'Desktop, Power\\n'\n",
      "                                   'BI Service, and Power BI Mobile.\\n'\n",
      "                                   'Q 3. What is Power BI Desktop?\\n'\n",
      "                                   'ANS :-   Power BI Desktop is a desktop '\n",
      "                                   'application used for\\n'\n",
      "                                   'creating and publishing reports.\\n'\n",
      "                                   'Q 4. What is the Power BI Service? \\n'\n",
      "                                   'ANS :-   Power BI Service is an online '\n",
      "                                   'service for sharing\\n'\n",
      "                                   'and collaborating on Power BI reports.'},\n",
      "              'score': 0.711549819,\n",
      "              'values': []},\n",
      "             {'id': '52e65f43-e160-49c0-a848-a3ffc66330c9',\n",
      "              'metadata': {'page': 0.0,\n",
      "                           'source': 'Power bi qn.pdf',\n",
      "                           'text': 'Q 1. What is Power BI? \\n'\n",
      "                                   'ANS :-  Power BI is a business analytics '\n",
      "                                   'tool by Microsoft\\n'\n",
      "                                   'that provides interactive visualizations '\n",
      "                                   'and business\\n'\n",
      "                                   'intelligence capabilities with an '\n",
      "                                   'interface simple enough\\n'\n",
      "                                   'for end users to create their own reports '\n",
      "                                   'and dashboards.\\n'\n",
      "                                   'Top 50 Power-BI interview\\n'\n",
      "                                   'questions and answers\\n'\n",
      "                                   'Q 2. What are the key components of Power '\n",
      "                                   'BI?\\n'\n",
      "                                   'ANS :-   The key components are Power BI '\n",
      "                                   'Desktop, Power\\n'\n",
      "                                   'BI Service, and Power BI Mobile.\\n'\n",
      "                                   'Q 3. What is Power BI Desktop?\\n'\n",
      "                                   'ANS :-   Power BI Desktop is a desktop '\n",
      "                                   'application used for\\n'\n",
      "                                   'creating and publishing reports.\\n'\n",
      "                                   'Q 4. What is the Power BI Service? \\n'\n",
      "                                   'ANS :-   Power BI Service is an online '\n",
      "                                   'service for sharing\\n'\n",
      "                                   'and collaborating on Power BI reports.'},\n",
      "              'score': 0.711549819,\n",
      "              'values': []}],\n",
      " 'namespace': '',\n",
      " 'usage': {'read_units': 6}}\n"
     ]
    }
   ],
   "source": [
    "query = \"What is the purpose of the Power BI REST API?\"\n",
    "\n",
    "# Initialize LLM for generation (e.g., GPT-4 via OpenAI)\n",
    "llm = OpenAI(model=\"gpt-4\")  # Replace with your model and API key\n",
    "\n",
    "# Create retriever from vector store\n",
    "retriever = vector_store.as_retriever()\n",
    "\n",
    "query_embedding = embeddings.embed_query(query)\n",
    "\n",
    "results = index.query(\n",
    "    vector=query_embedding,\n",
    "    top_k=3,\n",
    "    include_values=False,\n",
    "    include_metadata=True\n",
    ")\n",
    "\n",
    "print(results)"
   ]
  }
 ],
 "metadata": {
  "kernelspec": {
   "display_name": "Python 3",
   "language": "python",
   "name": "python3"
  },
  "language_info": {
   "codemirror_mode": {
    "name": "ipython",
    "version": 3
   },
   "file_extension": ".py",
   "mimetype": "text/x-python",
   "name": "python",
   "nbconvert_exporter": "python",
   "pygments_lexer": "ipython3",
   "version": "3.10.0"
  }
 },
 "nbformat": 4,
 "nbformat_minor": 2
}
